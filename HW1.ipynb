{
  "nbformat": 4,
  "nbformat_minor": 0,
  "metadata": {
    "colab": {
      "provenance": [],
      "collapsed_sections": [],
      "authorship_tag": "ABX9TyNEs6QkBqU1GHn86D/1VD4z",
      "include_colab_link": true
    },
    "kernelspec": {
      "name": "python3",
      "display_name": "Python 3"
    },
    "language_info": {
      "name": "python"
    }
  },
  "cells": [
    {
      "cell_type": "markdown",
      "metadata": {
        "id": "view-in-github",
        "colab_type": "text"
      },
      "source": [
        "<a href=\"https://colab.research.google.com/github/titika2013/Made_HPC/blob/main/HW1.ipynb\" target=\"_parent\"><img src=\"https://colab.research.google.com/assets/colab-badge.svg\" alt=\"Open In Colab\"/></a>"
      ]
    },
    {
      "cell_type": "code",
      "execution_count": 1,
      "metadata": {
        "id": "ck3Wx0Oe5Uv1"
      },
      "outputs": [],
      "source": [
        "import pandas as pd\n",
        "import numpy as np\n",
        "import seaborn as sns\n",
        "\n",
        "import matplotlib.pyplot as plt\n",
        "\n",
        "%matplotlib inline"
      ]
    },
    {
      "cell_type": "markdown",
      "source": [
        "### На основании данных рейтинга top500 спрогнозировать  производительность компьютера №1 в 2025"
      ],
      "metadata": {
        "id": "hBLp4Oo-KLVE"
      }
    },
    {
      "cell_type": "code",
      "source": [
        "readed_data = pd.read_excel(\"/content/TOP500_202206.xlsx\")"
      ],
      "metadata": {
        "id": "cJs9x1usBpVV"
      },
      "execution_count": 3,
      "outputs": []
    },
    {
      "cell_type": "code",
      "source": [
        "readed_data.columns"
      ],
      "metadata": {
        "id": "idqNxCvrB4Fs",
        "colab": {
          "base_uri": "https://localhost:8080/"
        },
        "outputId": "8627b632-fe68-4515-8107-35b6dfe3e512"
      },
      "execution_count": 4,
      "outputs": [
        {
          "output_type": "execute_result",
          "data": {
            "text/plain": [
              "Index(['Rank', 'Previous Rank', 'First Appearance', 'First Rank', 'Name',\n",
              "       'Computer', 'Site', 'Manufacturer', 'Country', 'Year', 'Segment',\n",
              "       'Total Cores', 'Accelerator/Co-Processor Cores', 'Rmax [TFlop/s]',\n",
              "       'Rpeak [TFlop/s]', 'Nmax', 'Nhalf', 'HPCG [TFlop/s]', 'Power (kW)',\n",
              "       'Power Source', 'Energy Efficiency [GFlops/Watts]', 'Memory',\n",
              "       'Architecture', 'Processor', 'Processor Technology',\n",
              "       'Processor Speed (MHz)', 'Operating System', 'OS Family',\n",
              "       'Accelerator/Co-Processor', 'Cores per Socket', 'Processor Generation',\n",
              "       'System Model', 'System Family', 'Interconnect Family', 'Interconnect',\n",
              "       'Continent', 'Site ID', 'System ID'],\n",
              "      dtype='object')"
            ]
          },
          "metadata": {},
          "execution_count": 4
        }
      ]
    },
    {
      "cell_type": "code",
      "source": [
        "data = readed_data[\n",
        "    [\"Rank\", \"Name\", 'Year', \"Computer\", \"Total Cores\", \"Rmax [TFlop/s]\", \"Rpeak [TFlop/s]\", \"Power (kW)\"]]\n"
      ],
      "metadata": {
        "id": "OuCnlfzH-aQI"
      },
      "execution_count": 5,
      "outputs": []
    },
    {
      "cell_type": "code",
      "source": [
        "data.head()"
      ],
      "metadata": {
        "colab": {
          "base_uri": "https://localhost:8080/",
          "height": 354
        },
        "id": "AfCRS_hhQN27",
        "outputId": "68ab87be-4472-4363-d607-1d03b7c1b433"
      },
      "execution_count": 6,
      "outputs": [
        {
          "output_type": "execute_result",
          "data": {
            "text/plain": [
              "   Rank                  Name  Year  \\\n",
              "0     1              Frontier  2021   \n",
              "1     2  Supercomputer Fugaku  2020   \n",
              "2     3                  LUMI  2022   \n",
              "3     4                Summit  2018   \n",
              "4     5                Sierra  2018   \n",
              "\n",
              "                                            Computer  Total Cores  \\\n",
              "0  HPE Cray EX235a, AMD Optimized 3rd Generation ...      8730112   \n",
              "1  Supercomputer Fugaku, A64FX 48C 2.2GHz, Tofu i...      7630848   \n",
              "2  HPE Cray EX235a, AMD Optimized 3rd Generation ...      1110144   \n",
              "3  IBM Power System AC922, IBM POWER9 22C 3.07GHz...      2414592   \n",
              "4  IBM Power System AC922, IBM POWER9 22C 3.1GHz,...      1572480   \n",
              "\n",
              "   Rmax [TFlop/s]  Rpeak [TFlop/s]  Power (kW)  \n",
              "0       1102000.0       1685651.46    21100.00  \n",
              "1        442010.0        537212.00    29899.23  \n",
              "2        151900.0        214351.87     2942.13  \n",
              "3        148600.0        200794.88    10096.00  \n",
              "4         94640.0        125712.00     7438.28  "
            ],
            "text/html": [
              "\n",
              "  <div id=\"df-44561508-03dc-49a5-9bbe-dfc0a382f3dc\">\n",
              "    <div class=\"colab-df-container\">\n",
              "      <div>\n",
              "<style scoped>\n",
              "    .dataframe tbody tr th:only-of-type {\n",
              "        vertical-align: middle;\n",
              "    }\n",
              "\n",
              "    .dataframe tbody tr th {\n",
              "        vertical-align: top;\n",
              "    }\n",
              "\n",
              "    .dataframe thead th {\n",
              "        text-align: right;\n",
              "    }\n",
              "</style>\n",
              "<table border=\"1\" class=\"dataframe\">\n",
              "  <thead>\n",
              "    <tr style=\"text-align: right;\">\n",
              "      <th></th>\n",
              "      <th>Rank</th>\n",
              "      <th>Name</th>\n",
              "      <th>Year</th>\n",
              "      <th>Computer</th>\n",
              "      <th>Total Cores</th>\n",
              "      <th>Rmax [TFlop/s]</th>\n",
              "      <th>Rpeak [TFlop/s]</th>\n",
              "      <th>Power (kW)</th>\n",
              "    </tr>\n",
              "  </thead>\n",
              "  <tbody>\n",
              "    <tr>\n",
              "      <th>0</th>\n",
              "      <td>1</td>\n",
              "      <td>Frontier</td>\n",
              "      <td>2021</td>\n",
              "      <td>HPE Cray EX235a, AMD Optimized 3rd Generation ...</td>\n",
              "      <td>8730112</td>\n",
              "      <td>1102000.0</td>\n",
              "      <td>1685651.46</td>\n",
              "      <td>21100.00</td>\n",
              "    </tr>\n",
              "    <tr>\n",
              "      <th>1</th>\n",
              "      <td>2</td>\n",
              "      <td>Supercomputer Fugaku</td>\n",
              "      <td>2020</td>\n",
              "      <td>Supercomputer Fugaku, A64FX 48C 2.2GHz, Tofu i...</td>\n",
              "      <td>7630848</td>\n",
              "      <td>442010.0</td>\n",
              "      <td>537212.00</td>\n",
              "      <td>29899.23</td>\n",
              "    </tr>\n",
              "    <tr>\n",
              "      <th>2</th>\n",
              "      <td>3</td>\n",
              "      <td>LUMI</td>\n",
              "      <td>2022</td>\n",
              "      <td>HPE Cray EX235a, AMD Optimized 3rd Generation ...</td>\n",
              "      <td>1110144</td>\n",
              "      <td>151900.0</td>\n",
              "      <td>214351.87</td>\n",
              "      <td>2942.13</td>\n",
              "    </tr>\n",
              "    <tr>\n",
              "      <th>3</th>\n",
              "      <td>4</td>\n",
              "      <td>Summit</td>\n",
              "      <td>2018</td>\n",
              "      <td>IBM Power System AC922, IBM POWER9 22C 3.07GHz...</td>\n",
              "      <td>2414592</td>\n",
              "      <td>148600.0</td>\n",
              "      <td>200794.88</td>\n",
              "      <td>10096.00</td>\n",
              "    </tr>\n",
              "    <tr>\n",
              "      <th>4</th>\n",
              "      <td>5</td>\n",
              "      <td>Sierra</td>\n",
              "      <td>2018</td>\n",
              "      <td>IBM Power System AC922, IBM POWER9 22C 3.1GHz,...</td>\n",
              "      <td>1572480</td>\n",
              "      <td>94640.0</td>\n",
              "      <td>125712.00</td>\n",
              "      <td>7438.28</td>\n",
              "    </tr>\n",
              "  </tbody>\n",
              "</table>\n",
              "</div>\n",
              "      <button class=\"colab-df-convert\" onclick=\"convertToInteractive('df-44561508-03dc-49a5-9bbe-dfc0a382f3dc')\"\n",
              "              title=\"Convert this dataframe to an interactive table.\"\n",
              "              style=\"display:none;\">\n",
              "        \n",
              "  <svg xmlns=\"http://www.w3.org/2000/svg\" height=\"24px\"viewBox=\"0 0 24 24\"\n",
              "       width=\"24px\">\n",
              "    <path d=\"M0 0h24v24H0V0z\" fill=\"none\"/>\n",
              "    <path d=\"M18.56 5.44l.94 2.06.94-2.06 2.06-.94-2.06-.94-.94-2.06-.94 2.06-2.06.94zm-11 1L8.5 8.5l.94-2.06 2.06-.94-2.06-.94L8.5 2.5l-.94 2.06-2.06.94zm10 10l.94 2.06.94-2.06 2.06-.94-2.06-.94-.94-2.06-.94 2.06-2.06.94z\"/><path d=\"M17.41 7.96l-1.37-1.37c-.4-.4-.92-.59-1.43-.59-.52 0-1.04.2-1.43.59L10.3 9.45l-7.72 7.72c-.78.78-.78 2.05 0 2.83L4 21.41c.39.39.9.59 1.41.59.51 0 1.02-.2 1.41-.59l7.78-7.78 2.81-2.81c.8-.78.8-2.07 0-2.86zM5.41 20L4 18.59l7.72-7.72 1.47 1.35L5.41 20z\"/>\n",
              "  </svg>\n",
              "      </button>\n",
              "      \n",
              "  <style>\n",
              "    .colab-df-container {\n",
              "      display:flex;\n",
              "      flex-wrap:wrap;\n",
              "      gap: 12px;\n",
              "    }\n",
              "\n",
              "    .colab-df-convert {\n",
              "      background-color: #E8F0FE;\n",
              "      border: none;\n",
              "      border-radius: 50%;\n",
              "      cursor: pointer;\n",
              "      display: none;\n",
              "      fill: #1967D2;\n",
              "      height: 32px;\n",
              "      padding: 0 0 0 0;\n",
              "      width: 32px;\n",
              "    }\n",
              "\n",
              "    .colab-df-convert:hover {\n",
              "      background-color: #E2EBFA;\n",
              "      box-shadow: 0px 1px 2px rgba(60, 64, 67, 0.3), 0px 1px 3px 1px rgba(60, 64, 67, 0.15);\n",
              "      fill: #174EA6;\n",
              "    }\n",
              "\n",
              "    [theme=dark] .colab-df-convert {\n",
              "      background-color: #3B4455;\n",
              "      fill: #D2E3FC;\n",
              "    }\n",
              "\n",
              "    [theme=dark] .colab-df-convert:hover {\n",
              "      background-color: #434B5C;\n",
              "      box-shadow: 0px 1px 3px 1px rgba(0, 0, 0, 0.15);\n",
              "      filter: drop-shadow(0px 1px 2px rgba(0, 0, 0, 0.3));\n",
              "      fill: #FFFFFF;\n",
              "    }\n",
              "  </style>\n",
              "\n",
              "      <script>\n",
              "        const buttonEl =\n",
              "          document.querySelector('#df-44561508-03dc-49a5-9bbe-dfc0a382f3dc button.colab-df-convert');\n",
              "        buttonEl.style.display =\n",
              "          google.colab.kernel.accessAllowed ? 'block' : 'none';\n",
              "\n",
              "        async function convertToInteractive(key) {\n",
              "          const element = document.querySelector('#df-44561508-03dc-49a5-9bbe-dfc0a382f3dc');\n",
              "          const dataTable =\n",
              "            await google.colab.kernel.invokeFunction('convertToInteractive',\n",
              "                                                     [key], {});\n",
              "          if (!dataTable) return;\n",
              "\n",
              "          const docLinkHtml = 'Like what you see? Visit the ' +\n",
              "            '<a target=\"_blank\" href=https://colab.research.google.com/notebooks/data_table.ipynb>data table notebook</a>'\n",
              "            + ' to learn more about interactive tables.';\n",
              "          element.innerHTML = '';\n",
              "          dataTable['output_type'] = 'display_data';\n",
              "          await google.colab.output.renderOutput(dataTable, element);\n",
              "          const docLink = document.createElement('div');\n",
              "          docLink.innerHTML = docLinkHtml;\n",
              "          element.appendChild(docLink);\n",
              "        }\n",
              "      </script>\n",
              "    </div>\n",
              "  </div>\n",
              "  "
            ]
          },
          "metadata": {},
          "execution_count": 6
        }
      ]
    },
    {
      "cell_type": "code",
      "source": [
        "data.plot(y=\"Rmax [TFlop/s]\", x=\"Year\")"
      ],
      "metadata": {
        "id": "9aDR0xz8QRwb",
        "colab": {
          "base_uri": "https://localhost:8080/",
          "height": 307
        },
        "outputId": "f3dd9edd-24aa-428a-9fde-e2787b601824"
      },
      "execution_count": 7,
      "outputs": [
        {
          "output_type": "execute_result",
          "data": {
            "text/plain": [
              "<matplotlib.axes._subplots.AxesSubplot at 0x7f9b2eed22d0>"
            ]
          },
          "metadata": {},
          "execution_count": 7
        },
        {
          "output_type": "display_data",
          "data": {
            "text/plain": [
              "<Figure size 432x288 with 1 Axes>"
            ],
            "image/png": "[encoded data removed]"
          },
          "metadata": {
            "needs_background": "light"
          }
        }
      ]
    },
    {
      "cell_type": "markdown",
      "source": [
        "Исходя из графика, был сделан вывод что необходимы данные по годам."
      ],
      "metadata": {
        "id": "3I1kUff-Bedb"
      }
    },
    {
      "cell_type": "code",
      "source": [
        "history_url = 'https://raw.githubusercontent.com/dlenski/top500/master/TOP500_history.csv'  # где-то на github нашел данные\n",
        "history_data = pd.read_csv(history_url, low_memory=False, parse_dates={'Date': ['Year', 'Month', 'Day']})"
      ],
      "metadata": {
        "id": "KHAZAOM_IlPI"
      },
      "execution_count": 8,
      "outputs": []
    },
    {
      "cell_type": "code",
      "source": [
        "history_data.head()"
      ],
      "metadata": {
        "colab": {
          "base_uri": "https://localhost:8080/",
          "height": 490
        },
        "id": "Hqt8j8QTcNTg",
        "outputId": "eac56f32-4a89-4192-a10d-9e617a9bdac8"
      },
      "execution_count": 9,
      "outputs": [
        {
          "output_type": "execute_result",
          "data": {
            "text/plain": [
              "        Date  Rank                            Site  \\\n",
              "0 1993-06-01   1.0  Los Alamos National Laboratory   \n",
              "1 1993-06-01   2.0  Minnesota Supercomputer Center   \n",
              "2 1993-06-01   3.0                            NCSA   \n",
              "3 1993-06-01   4.0        National Security Agency   \n",
              "4 1993-06-01   5.0                             NEC   \n",
              "\n",
              "                    Manufacturer   Computer        Country  Processors  RMax  \\\n",
              "0  Thinking Machines Corporation  CM-5/1024  United States      1024.0  59.7   \n",
              "1  Thinking Machines Corporation   CM-5/544  United States       544.0  30.4   \n",
              "2  Thinking Machines Corporation   CM-5/512  United States       512.0  30.4   \n",
              "3  Thinking Machines Corporation   CM-5/512  United States       512.0  30.4   \n",
              "4                            NEC   SX-3/44R          Japan         4.0  23.2   \n",
              "\n",
              "    RPeak     Nmax  ...  Accelerator/Co-Processor Power Source Rmax [TFlop/s]  \\\n",
              "0  131.00  52224.0  ...                       NaN          NaN            NaN   \n",
              "1   69.63  36864.0  ...                       NaN          NaN            NaN   \n",
              "2   65.54  36864.0  ...                       NaN          NaN            NaN   \n",
              "3   65.54  36864.0  ...                       NaN          NaN            NaN   \n",
              "4   25.60   6400.0  ...                       NaN          NaN            NaN   \n",
              "\n",
              "   Rpeak [TFlop/s] HPCG [TFlop/s] Power (kW) Power Efficiency [GFlops/Watts]  \\\n",
              "0              NaN            NaN        NaN                             NaN   \n",
              "1              NaN            NaN        NaN                             NaN   \n",
              "2              NaN            NaN        NaN                             NaN   \n",
              "3              NaN            NaN        NaN                             NaN   \n",
              "4              NaN            NaN        NaN                             NaN   \n",
              "\n",
              "  Site ID System ID Memory  \n",
              "0     NaN       NaN    NaN  \n",
              "1     NaN       NaN    NaN  \n",
              "2     NaN       NaN    NaN  \n",
              "3     NaN       NaN    NaN  \n",
              "4     NaN       NaN    NaN  \n",
              "\n",
              "[5 rows x 51 columns]"
            ],
            "text/html": [
              "\n",
              "  <div id=\"df-4b3ba955-5f51-41bf-963f-577489e35e5f\">\n",
              "    <div class=\"colab-df-container\">\n",
              "      <div>\n",
              "<style scoped>\n",
              "    .dataframe tbody tr th:only-of-type {\n",
              "        vertical-align: middle;\n",
              "    }\n",
              "\n",
              "    .dataframe tbody tr th {\n",
              "        vertical-align: top;\n",
              "    }\n",
              "\n",
              "    .dataframe thead th {\n",
              "        text-align: right;\n",
              "    }\n",
              "</style>\n",
              "<table border=\"1\" class=\"dataframe\">\n",
              "  <thead>\n",
              "    <tr style=\"text-align: right;\">\n",
              "      <th></th>\n",
              "      <th>Date</th>\n",
              "      <th>Rank</th>\n",
              "      <th>Site</th>\n",
              "      <th>Manufacturer</th>\n",
              "      <th>Computer</th>\n",
              "      <th>Country</th>\n",
              "      <th>Processors</th>\n",
              "      <th>RMax</th>\n",
              "      <th>RPeak</th>\n",
              "      <th>Nmax</th>\n",
              "      <th>...</th>\n",
              "      <th>Accelerator/Co-Processor</th>\n",
              "      <th>Power Source</th>\n",
              "      <th>Rmax [TFlop/s]</th>\n",
              "      <th>Rpeak [TFlop/s]</th>\n",
              "      <th>HPCG [TFlop/s]</th>\n",
              "      <th>Power (kW)</th>\n",
              "      <th>Power Efficiency [GFlops/Watts]</th>\n",
              "      <th>Site ID</th>\n",
              "      <th>System ID</th>\n",
              "      <th>Memory</th>\n",
              "    </tr>\n",
              "  </thead>\n",
              "  <tbody>\n",
              "    <tr>\n",
              "      <th>0</th>\n",
              "      <td>1993-06-01</td>\n",
              "      <td>1.0</td>\n",
              "      <td>Los Alamos National Laboratory</td>\n",
              "      <td>Thinking Machines Corporation</td>\n",
              "      <td>CM-5/1024</td>\n",
              "      <td>United States</td>\n",
              "      <td>1024.0</td>\n",
              "      <td>59.7</td>\n",
              "      <td>131.00</td>\n",
              "      <td>52224.0</td>\n",
              "      <td>...</td>\n",
              "      <td>NaN</td>\n",
              "      <td>NaN</td>\n",
              "      <td>NaN</td>\n",
              "      <td>NaN</td>\n",
              "      <td>NaN</td>\n",
              "      <td>NaN</td>\n",
              "      <td>NaN</td>\n",
              "      <td>NaN</td>\n",
              "      <td>NaN</td>\n",
              "      <td>NaN</td>\n",
              "    </tr>\n",
              "    <tr>\n",
              "      <th>1</th>\n",
              "      <td>1993-06-01</td>\n",
              "      <td>2.0</td>\n",
              "      <td>Minnesota Supercomputer Center</td>\n",
              "      <td>Thinking Machines Corporation</td>\n",
              "      <td>CM-5/544</td>\n",
              "      <td>United States</td>\n",
              "      <td>544.0</td>\n",
              "      <td>30.4</td>\n",
              "      <td>69.63</td>\n",
              "      <td>36864.0</td>\n",
              "      <td>...</td>\n",
              "      <td>NaN</td>\n",
              "      <td>NaN</td>\n",
              "      <td>NaN</td>\n",
              "      <td>NaN</td>\n",
              "      <td>NaN</td>\n",
              "      <td>NaN</td>\n",
              "      <td>NaN</td>\n",
              "      <td>NaN</td>\n",
              "      <td>NaN</td>\n",
              "      <td>NaN</td>\n",
              "    </tr>\n",
              "    <tr>\n",
              "      <th>2</th>\n",
              "      <td>1993-06-01</td>\n",
              "      <td>3.0</td>\n",
              "      <td>NCSA</td>\n",
              "      <td>Thinking Machines Corporation</td>\n",
              "      <td>CM-5/512</td>\n",
              "      <td>United States</td>\n",
              "      <td>512.0</td>\n",
              "      <td>30.4</td>\n",
              "      <td>65.54</td>\n",
              "      <td>36864.0</td>\n",
              "      <td>...</td>\n",
              "      <td>NaN</td>\n",
              "      <td>NaN</td>\n",
              "      <td>NaN</td>\n",
              "      <td>NaN</td>\n",
              "      <td>NaN</td>\n",
              "      <td>NaN</td>\n",
              "      <td>NaN</td>\n",
              "      <td>NaN</td>\n",
              "      <td>NaN</td>\n",
              "      <td>NaN</td>\n",
              "    </tr>\n",
              "    <tr>\n",
              "      <th>3</th>\n",
              "      <td>1993-06-01</td>\n",
              "      <td>4.0</td>\n",
              "      <td>National Security Agency</td>\n",
              "      <td>Thinking Machines Corporation</td>\n",
              "      <td>CM-5/512</td>\n",
              "      <td>United States</td>\n",
              "      <td>512.0</td>\n",
              "      <td>30.4</td>\n",
              "      <td>65.54</td>\n",
              "      <td>36864.0</td>\n",
              "      <td>...</td>\n",
              "      <td>NaN</td>\n",
              "      <td>NaN</td>\n",
              "      <td>NaN</td>\n",
              "      <td>NaN</td>\n",
              "      <td>NaN</td>\n",
              "      <td>NaN</td>\n",
              "      <td>NaN</td>\n",
              "      <td>NaN</td>\n",
              "      <td>NaN</td>\n",
              "      <td>NaN</td>\n",
              "    </tr>\n",
              "    <tr>\n",
              "      <th>4</th>\n",
              "      <td>1993-06-01</td>\n",
              "      <td>5.0</td>\n",
              "      <td>NEC</td>\n",
              "      <td>NEC</td>\n",
              "      <td>SX-3/44R</td>\n",
              "      <td>Japan</td>\n",
              "      <td>4.0</td>\n",
              "      <td>23.2</td>\n",
              "      <td>25.60</td>\n",
              "      <td>6400.0</td>\n",
              "      <td>...</td>\n",
              "      <td>NaN</td>\n",
              "      <td>NaN</td>\n",
              "      <td>NaN</td>\n",
              "      <td>NaN</td>\n",
              "      <td>NaN</td>\n",
              "      <td>NaN</td>\n",
              "      <td>NaN</td>\n",
              "      <td>NaN</td>\n",
              "      <td>NaN</td>\n",
              "      <td>NaN</td>\n",
              "    </tr>\n",
              "  </tbody>\n",
              "</table>\n",
              "<p>5 rows × 51 columns</p>\n",
              "</div>\n",
              "      <button class=\"colab-df-convert\" onclick=\"convertToInteractive('df-4b3ba955-5f51-41bf-963f-577489e35e5f')\"\n",
              "              title=\"Convert this dataframe to an interactive table.\"\n",
              "              style=\"display:none;\">\n",
              "        \n",
              "  <svg xmlns=\"http://www.w3.org/2000/svg\" height=\"24px\"viewBox=\"0 0 24 24\"\n",
              "       width=\"24px\">\n",
              "    <path d=\"M0 0h24v24H0V0z\" fill=\"none\"/>\n",
              "    <path d=\"M18.56 5.44l.94 2.06.94-2.06 2.06-.94-2.06-.94-.94-2.06-.94 2.06-2.06.94zm-11 1L8.5 8.5l.94-2.06 2.06-.94-2.06-.94L8.5 2.5l-.94 2.06-2.06.94zm10 10l.94 2.06.94-2.06 2.06-.94-2.06-.94-.94-2.06-.94 2.06-2.06.94z\"/><path d=\"M17.41 7.96l-1.37-1.37c-.4-.4-.92-.59-1.43-.59-.52 0-1.04.2-1.43.59L10.3 9.45l-7.72 7.72c-.78.78-.78 2.05 0 2.83L4 21.41c.39.39.9.59 1.41.59.51 0 1.02-.2 1.41-.59l7.78-7.78 2.81-2.81c.8-.78.8-2.07 0-2.86zM5.41 20L4 18.59l7.72-7.72 1.47 1.35L5.41 20z\"/>\n",
              "  </svg>\n",
              "      </button>\n",
              "      \n",
              "  <style>\n",
              "    .colab-df-container {\n",
              "      display:flex;\n",
              "      flex-wrap:wrap;\n",
              "      gap: 12px;\n",
              "    }\n",
              "\n",
              "    .colab-df-convert {\n",
              "      background-color: #E8F0FE;\n",
              "      border: none;\n",
              "      border-radius: 50%;\n",
              "      cursor: pointer;\n",
              "      display: none;\n",
              "      fill: #1967D2;\n",
              "      height: 32px;\n",
              "      padding: 0 0 0 0;\n",
              "      width: 32px;\n",
              "    }\n",
              "\n",
              "    .colab-df-convert:hover {\n",
              "      background-color: #E2EBFA;\n",
              "      box-shadow: 0px 1px 2px rgba(60, 64, 67, 0.3), 0px 1px 3px 1px rgba(60, 64, 67, 0.15);\n",
              "      fill: #174EA6;\n",
              "    }\n",
              "\n",
              "    [theme=dark] .colab-df-convert {\n",
              "      background-color: #3B4455;\n",
              "      fill: #D2E3FC;\n",
              "    }\n",
              "\n",
              "    [theme=dark] .colab-df-convert:hover {\n",
              "      background-color: #434B5C;\n",
              "      box-shadow: 0px 1px 3px 1px rgba(0, 0, 0, 0.15);\n",
              "      filter: drop-shadow(0px 1px 2px rgba(0, 0, 0, 0.3));\n",
              "      fill: #FFFFFF;\n",
              "    }\n",
              "  </style>\n",
              "\n",
              "      <script>\n",
              "        const buttonEl =\n",
              "          document.querySelector('#df-4b3ba955-5f51-41bf-963f-577489e35e5f button.colab-df-convert');\n",
              "        buttonEl.style.display =\n",
              "          google.colab.kernel.accessAllowed ? 'block' : 'none';\n",
              "\n",
              "        async function convertToInteractive(key) {\n",
              "          const element = document.querySelector('#df-4b3ba955-5f51-41bf-963f-577489e35e5f');\n",
              "          const dataTable =\n",
              "            await google.colab.kernel.invokeFunction('convertToInteractive',\n",
              "                                                     [key], {});\n",
              "          if (!dataTable) return;\n",
              "\n",
              "          const docLinkHtml = 'Like what you see? Visit the ' +\n",
              "            '<a target=\"_blank\" href=https://colab.research.google.com/notebooks/data_table.ipynb>data table notebook</a>'\n",
              "            + ' to learn more about interactive tables.';\n",
              "          element.innerHTML = '';\n",
              "          dataTable['output_type'] = 'display_data';\n",
              "          await google.colab.output.renderOutput(dataTable, element);\n",
              "          const docLink = document.createElement('div');\n",
              "          docLink.innerHTML = docLinkHtml;\n",
              "          element.appendChild(docLink);\n",
              "        }\n",
              "      </script>\n",
              "    </div>\n",
              "  </div>\n",
              "  "
            ]
          },
          "metadata": {},
          "execution_count": 9
        }
      ]
    },
    {
      "cell_type": "code",
      "source": [
        "history_data = history_data[['Date', 'Rank', 'Computer', \"RMax\", \"Rmax [TFlop/s]\"]]\n",
        "res_top_500 = history_data.groupby(['Date'], sort=False)['Rmax [TFlop/s]', \"RMax\"].max()"
      ],
      "metadata": {
        "colab": {
          "base_uri": "https://localhost:8080/"
        },
        "id": "kYTS918fCedD",
        "outputId": "5ba3973e-79f8-41af-cb96-5df467176465"
      },
      "execution_count": 10,
      "outputs": [
        {
          "output_type": "stream",
          "name": "stderr",
          "text": [
            "/usr/local/lib/python3.7/dist-packages/ipykernel_launcher.py:2: FutureWarning: Indexing with multiple keys (implicitly converted to a tuple of keys) will be deprecated, use a list instead.\n",
            "  \n"
          ]
        }
      ]
    },
    {
      "cell_type": "code",
      "source": [
        "res_top_500['RMax'] = res_top_500['RMax'].combine_first(res_top_500[\"Rmax [TFlop/s]\"] * 10 ** 3)\n",
        "res_top_500 = res_top_500.drop(\"Rmax [TFlop/s]\", axis=1)\n",
        "# последнее обновление добавил вручную\n",
        "res_top_500.loc[pd.to_datetime('2022-06-01')] = [1.1e+09]\n",
        "res_top_500.reset_index(inplace=True)"
      ],
      "metadata": {
        "id": "c-gnzrfjEH0B"
      },
      "execution_count": 11,
      "outputs": []
    },
    {
      "cell_type": "code",
      "source": [
        "res_top_500.head()"
      ],
      "metadata": {
        "colab": {
          "base_uri": "https://localhost:8080/",
          "height": 206
        },
        "id": "h9VhiSJXHntz",
        "outputId": "6e1d6e1d-e6b9-4a8c-9dc0-cd9727fde6fc"
      },
      "execution_count": 12,
      "outputs": [
        {
          "output_type": "execute_result",
          "data": {
            "text/plain": [
              "        Date   RMax\n",
              "0 1993-06-01   59.7\n",
              "1 1993-11-01  124.0\n",
              "2 1994-06-01  143.4\n",
              "3 1994-11-01  170.0\n",
              "4 1995-06-01  170.0"
            ],
            "text/html": [
              "\n",
              "  <div id=\"df-c3ab0038-1ca2-42c2-b3d8-3387b76dbac5\">\n",
              "    <div class=\"colab-df-container\">\n",
              "      <div>\n",
              "<style scoped>\n",
              "    .dataframe tbody tr th:only-of-type {\n",
              "        vertical-align: middle;\n",
              "    }\n",
              "\n",
              "    .dataframe tbody tr th {\n",
              "        vertical-align: top;\n",
              "    }\n",
              "\n",
              "    .dataframe thead th {\n",
              "        text-align: right;\n",
              "    }\n",
              "</style>\n",
              "<table border=\"1\" class=\"dataframe\">\n",
              "  <thead>\n",
              "    <tr style=\"text-align: right;\">\n",
              "      <th></th>\n",
              "      <th>Date</th>\n",
              "      <th>RMax</th>\n",
              "    </tr>\n",
              "  </thead>\n",
              "  <tbody>\n",
              "    <tr>\n",
              "      <th>0</th>\n",
              "      <td>1993-06-01</td>\n",
              "      <td>59.7</td>\n",
              "    </tr>\n",
              "    <tr>\n",
              "      <th>1</th>\n",
              "      <td>1993-11-01</td>\n",
              "      <td>124.0</td>\n",
              "    </tr>\n",
              "    <tr>\n",
              "      <th>2</th>\n",
              "      <td>1994-06-01</td>\n",
              "      <td>143.4</td>\n",
              "    </tr>\n",
              "    <tr>\n",
              "      <th>3</th>\n",
              "      <td>1994-11-01</td>\n",
              "      <td>170.0</td>\n",
              "    </tr>\n",
              "    <tr>\n",
              "      <th>4</th>\n",
              "      <td>1995-06-01</td>\n",
              "      <td>170.0</td>\n",
              "    </tr>\n",
              "  </tbody>\n",
              "</table>\n",
              "</div>\n",
              "      <button class=\"colab-df-convert\" onclick=\"convertToInteractive('df-c3ab0038-1ca2-42c2-b3d8-3387b76dbac5')\"\n",
              "              title=\"Convert this dataframe to an interactive table.\"\n",
              "              style=\"display:none;\">\n",
              "        \n",
              "  <svg xmlns=\"http://www.w3.org/2000/svg\" height=\"24px\"viewBox=\"0 0 24 24\"\n",
              "       width=\"24px\">\n",
              "    <path d=\"M0 0h24v24H0V0z\" fill=\"none\"/>\n",
              "    <path d=\"M18.56 5.44l.94 2.06.94-2.06 2.06-.94-2.06-.94-.94-2.06-.94 2.06-2.06.94zm-11 1L8.5 8.5l.94-2.06 2.06-.94-2.06-.94L8.5 2.5l-.94 2.06-2.06.94zm10 10l.94 2.06.94-2.06 2.06-.94-2.06-.94-.94-2.06-.94 2.06-2.06.94z\"/><path d=\"M17.41 7.96l-1.37-1.37c-.4-.4-.92-.59-1.43-.59-.52 0-1.04.2-1.43.59L10.3 9.45l-7.72 7.72c-.78.78-.78 2.05 0 2.83L4 21.41c.39.39.9.59 1.41.59.51 0 1.02-.2 1.41-.59l7.78-7.78 2.81-2.81c.8-.78.8-2.07 0-2.86zM5.41 20L4 18.59l7.72-7.72 1.47 1.35L5.41 20z\"/>\n",
              "  </svg>\n",
              "      </button>\n",
              "      \n",
              "  <style>\n",
              "    .colab-df-container {\n",
              "      display:flex;\n",
              "      flex-wrap:wrap;\n",
              "      gap: 12px;\n",
              "    }\n",
              "\n",
              "    .colab-df-convert {\n",
              "      background-color: #E8F0FE;\n",
              "      border: none;\n",
              "      border-radius: 50%;\n",
              "      cursor: pointer;\n",
              "      display: none;\n",
              "      fill: #1967D2;\n",
              "      height: 32px;\n",
              "      padding: 0 0 0 0;\n",
              "      width: 32px;\n",
              "    }\n",
              "\n",
              "    .colab-df-convert:hover {\n",
              "      background-color: #E2EBFA;\n",
              "      box-shadow: 0px 1px 2px rgba(60, 64, 67, 0.3), 0px 1px 3px 1px rgba(60, 64, 67, 0.15);\n",
              "      fill: #174EA6;\n",
              "    }\n",
              "\n",
              "    [theme=dark] .colab-df-convert {\n",
              "      background-color: #3B4455;\n",
              "      fill: #D2E3FC;\n",
              "    }\n",
              "\n",
              "    [theme=dark] .colab-df-convert:hover {\n",
              "      background-color: #434B5C;\n",
              "      box-shadow: 0px 1px 3px 1px rgba(0, 0, 0, 0.15);\n",
              "      filter: drop-shadow(0px 1px 2px rgba(0, 0, 0, 0.3));\n",
              "      fill: #FFFFFF;\n",
              "    }\n",
              "  </style>\n",
              "\n",
              "      <script>\n",
              "        const buttonEl =\n",
              "          document.querySelector('#df-c3ab0038-1ca2-42c2-b3d8-3387b76dbac5 button.colab-df-convert');\n",
              "        buttonEl.style.display =\n",
              "          google.colab.kernel.accessAllowed ? 'block' : 'none';\n",
              "\n",
              "        async function convertToInteractive(key) {\n",
              "          const element = document.querySelector('#df-c3ab0038-1ca2-42c2-b3d8-3387b76dbac5');\n",
              "          const dataTable =\n",
              "            await google.colab.kernel.invokeFunction('convertToInteractive',\n",
              "                                                     [key], {});\n",
              "          if (!dataTable) return;\n",
              "\n",
              "          const docLinkHtml = 'Like what you see? Visit the ' +\n",
              "            '<a target=\"_blank\" href=https://colab.research.google.com/notebooks/data_table.ipynb>data table notebook</a>'\n",
              "            + ' to learn more about interactive tables.';\n",
              "          element.innerHTML = '';\n",
              "          dataTable['output_type'] = 'display_data';\n",
              "          await google.colab.output.renderOutput(dataTable, element);\n",
              "          const docLink = document.createElement('div');\n",
              "          docLink.innerHTML = docLinkHtml;\n",
              "          element.appendChild(docLink);\n",
              "        }\n",
              "      </script>\n",
              "    </div>\n",
              "  </div>\n",
              "  "
            ]
          },
          "metadata": {},
          "execution_count": 12
        }
      ]
    },
    {
      "cell_type": "code",
      "source": [
        "fig = plt.figure(figsize=(10, 10))\n",
        "plt.title(\"Производительность по годам\")\n",
        "plt.style.use('dark_background')\n",
        "grid = sns.scatterplot(x=res_top_500.Date, y=res_top_500.RMax, marker='+', s=200, palette=\"Accent\")\n",
        "grid.set(yscale=\"log\", xlabel='Date', ylabel='GFlop/s')"
      ],
      "metadata": {
        "id": "NGNg1ibgZZuG",
        "colab": {
          "base_uri": "https://localhost:8080/",
          "height": 638
        },
        "outputId": "311b73a5-b5be-4ada-f490-90646809c463"
      },
      "execution_count": 13,
      "outputs": [
        {
          "output_type": "execute_result",
          "data": {
            "text/plain": [
              "[None, Text(0, 0.5, 'GFlop/s'), Text(0.5, 0, 'Date')]"
            ]
          },
          "metadata": {},
          "execution_count": 13
        },
        {
          "output_type": "display_data",
          "data": {
            "text/plain": [
              "<Figure size 720x720 with 1 Axes>"
            ],
            "image/png": "[encoded data removed]"
          },
          "metadata": {
            "needs_background": "light"
          }
        }
      ]
    },
    {
      "cell_type": "code",
      "source": [
        "from sklearn.linear_model import LinearRegression"
      ],
      "metadata": {
        "id": "mElOyaNyDsDN"
      },
      "execution_count": 14,
      "outputs": []
    },
    {
      "cell_type": "code",
      "source": [
        "y_train = res_top_500.RMax.to_numpy().reshape(-1, 1)\n",
        "x_train = ((res_top_500['Date'] - res_top_500['Date'][0]).dt.days).to_numpy().reshape(-1, 1)"
      ],
      "metadata": {
        "id": "G-qLV0w9IyBN"
      },
      "execution_count": 15,
      "outputs": []
    },
    {
      "cell_type": "code",
      "source": [
        "model = LinearRegression()\n",
        "model.fit(x_train, np.log(y_train))\n",
        "y_pred = np.exp(model.predict(x_train))"
      ],
      "metadata": {
        "id": "xltKoiw3Me6w"
      },
      "execution_count": 16,
      "outputs": []
    },
    {
      "cell_type": "code",
      "source": [
        "fig = plt.figure(figsize=(10, 10))\n",
        "plt.title(\"Производительность по годам\")\n",
        "plt.style.use('dark_background')\n",
        "grid = sns.scatterplot(x=res_top_500.Date, y=res_top_500.RMax, marker='+', s=200, palette=\"Accent\")\n",
        "grid = sns.scatterplot(x=res_top_500.Date, y=y_pred.flatten(), marker='s', s=20, palette=\"Accent\")\n",
        "grid.set(yscale=\"log\", xlabel='Date', ylabel='GFlop/s')"
      ],
      "metadata": {
        "colab": {
          "base_uri": "https://localhost:8080/",
          "height": 638
        },
        "id": "vqotJ0iqNcGK",
        "outputId": "0251ce1c-6ae6-4970-b315-dc550fcb5daf"
      },
      "execution_count": 17,
      "outputs": [
        {
          "output_type": "execute_result",
          "data": {
            "text/plain": [
              "[None, Text(0, 0.5, 'GFlop/s'), Text(0.5, 0, 'Date')]"
            ]
          },
          "metadata": {},
          "execution_count": 17
        },
        {
          "output_type": "display_data",
          "data": {
            "text/plain": [
              "<Figure size 720x720 with 1 Axes>"
            ],
            "image/png": "[encoded data removed]"
          },
          "metadata": {}
        }
      ]
    },
    {
      "cell_type": "code",
      "source": [
        "target_day = (pd.Timestamp('2025-01-01') - res_top_500['Date'][0]).days\n",
        "y_pred = np.exp(model.predict(np.array(target_day).reshape(-1, 1)))\n",
        "print(f'{y_pred.flatten()[0] / 1e9:.4} EFlop/s')"
      ],
      "metadata": {
        "colab": {
          "base_uri": "https://localhost:8080/"
        },
        "id": "FxiCkHo9YVvh",
        "outputId": "41cb0b2e-4d9d-416e-9fce-f7797a053340"
      },
      "execution_count": 18,
      "outputs": [
        {
          "output_type": "stream",
          "name": "stdout",
          "text": [
            "8.884 EFlop/s\n"
          ]
        }
      ]
    },
    {
      "cell_type": "markdown",
      "source": [
        "Ответ: на 2025-01-01 мощность составит 8.9 EFlop/s"
      ],
      "metadata": {
        "id": "lpduU8HpoN6M"
      }
    },
    {
      "cell_type": "markdown",
      "source": [
        "## 2. Оцените какой процент всего производимого на Земле электричества потребляют все компьютеры из top500 (на основании открытых данных top500.org)"
      ],
      "metadata": {
        "id": "vKIOjt8tojPj"
      }
    },
    {
      "cell_type": "code",
      "source": [
        "readed_data = pd.read_excel(\"/content/TOP500_202206.xlsx\")\n",
        "powers = readed_data['Power (kW)']"
      ],
      "metadata": {
        "id": "vEK198SGp-74"
      },
      "execution_count": 19,
      "outputs": []
    },
    {
      "cell_type": "code",
      "source": [
        "powers.plot(figsize=(7, 7))"
      ],
      "metadata": {
        "colab": {
          "base_uri": "https://localhost:8080/",
          "height": 445
        },
        "id": "7xrczgB5q2ZQ",
        "outputId": "77d9f374-030d-47d2-fc9e-8c540a28845f"
      },
      "execution_count": 20,
      "outputs": [
        {
          "output_type": "execute_result",
          "data": {
            "text/plain": [
              "<matplotlib.axes._subplots.AxesSubplot at 0x7f9b2cfc4fd0>"
            ]
          },
          "metadata": {},
          "execution_count": 20
        },
        {
          "output_type": "display_data",
          "data": {
            "text/plain": [
              "<Figure size 504x504 with 1 Axes>"
            ],
            "image/png": "[encoded data removed]"
          },
          "metadata": {}
        }
      ]
    },
    {
      "cell_type": "code",
      "source": [
        "powers.fillna(method='ffill', inplace=True)"
      ],
      "metadata": {
        "id": "sEuU1X3TrDkO"
      },
      "execution_count": 21,
      "outputs": []
    },
    {
      "cell_type": "code",
      "source": [
        "powers.plot(figsize=(7, 7))"
      ],
      "metadata": {
        "colab": {
          "base_uri": "https://localhost:8080/",
          "height": 445
        },
        "id": "CvPtIOvBuEte",
        "outputId": "5bf886eb-e0dc-448f-ba0f-a74950719026"
      },
      "execution_count": 22,
      "outputs": [
        {
          "output_type": "execute_result",
          "data": {
            "text/plain": [
              "<matplotlib.axes._subplots.AxesSubplot at 0x7f9b2ee89f50>"
            ]
          },
          "metadata": {},
          "execution_count": 22
        },
        {
          "output_type": "display_data",
          "data": {
            "text/plain": [
              "<Figure size 504x504 with 1 Axes>"
            ],
            "image/png": "[encoded data removed]"
          },
          "metadata": {}
        }
      ]
    },
    {
      "cell_type": "markdown",
      "source": [
        "Производство электроэнергии по всем источникам в мире равно 28214,07 ТВт·ч. Взято из https://ourworldindata.org/grapher/electricity-prod-source-stacked."
      ],
      "metadata": {
        "id": "O43hMo8ysS16"
      }
    },
    {
      "cell_type": "code",
      "source": [
        "all_power = 28214.07e9\n",
        "percents = ((powers.sum() * 8760 )/ all_power) * 100"
      ],
      "metadata": {
        "id": "tm7l4e7EuZ1F"
      },
      "execution_count": 23,
      "outputs": []
    },
    {
      "cell_type": "code",
      "source": [
        "print(\n",
        "    f\"Процент всего производимого на Земле электричествапотребляют все компьютеры из top500 \"\n",
        "    f\"(на основании открытых данных top500.org) составяет {percents:.3f}%\")"
      ],
      "metadata": {
        "colab": {
          "base_uri": "https://localhost:8080/"
        },
        "id": "Pt6qwFH9tnjJ",
        "outputId": "b444be06-ce77-4051-e404-9cc44532a35c"
      },
      "execution_count": 24,
      "outputs": [
        {
          "output_type": "stream",
          "name": "stdout",
          "text": [
            "Процент всего производимого на Земле электричествапотребляют все компьютеры из top500 (на основании открытых данных top500.org) составяет 0.022%\n"
          ]
        }
      ]
    },
    {
      "cell_type": "markdown",
      "source": [
        "Итого компьютеры из топ 500 потребляют 0.022% мирового электричества."
      ],
      "metadata": {
        "id": "owwKC92OxwEv"
      }
    },
    {
      "cell_type": "code",
      "source": [],
      "metadata": {
        "id": "kGL46Hyw43_M"
      },
      "execution_count": 24,
      "outputs": []
    }
  ]
}