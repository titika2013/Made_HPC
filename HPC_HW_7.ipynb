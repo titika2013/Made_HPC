{
  "cells": [
    {
      "cell_type": "markdown",
      "metadata": {
        "id": "view-in-github",
        "colab_type": "text"
      },
      "source": [
        "<a href=\"https://colab.research.google.com/github/titika2013/Made_HPC/blob/main/HPC_HW_7.ipynb\" target=\"_parent\"><img src=\"https://colab.research.google.com/assets/colab-badge.svg\" alt=\"Open In Colab\"/></a>"
      ]
    },
    {
      "cell_type": "code",
      "execution_count": null,
      "metadata": {
        "jupyter": {
          "outputs_hidden": true
        },
        "id": "zeWd9fMhFOdT"
      },
      "outputs": [],
      "source": [
        "%%capture\n",
        "!pip install SALib"
      ]
    },
    {
      "cell_type": "code",
      "source": [
        "import time\n",
        "import numpy as np\n",
        "from numba import jit\n",
        "\n",
        "from SALib.sample import saltelli\n",
        "from SALib.test_functions import Ishigami\n",
        "\n",
        "import matplotlib.pyplot as plt\n",
        "import seaborn as sns\n",
        "\n",
        "import warnings\n",
        "\n",
        "warnings.filterwarnings(\"ignore\")\n"
      ],
      "metadata": {
        "id": "ntOhKunu8dho"
      },
      "execution_count": null,
      "outputs": []
    },
    {
      "cell_type": "code",
      "execution_count": null,
      "metadata": {
        "id": "UOEUBWI0FOdW"
      },
      "outputs": [],
      "source": [
        "problem = {\n",
        "    'num_vars': 3,\n",
        "    'names': ['x1', 'x2', 'x3'],\n",
        "    'bounds': [[-np.pi, np.pi]] * 3\n",
        "}\n"
      ]
    },
    {
      "cell_type": "markdown",
      "metadata": {
        "id": "Y44lnOX0FOdX"
      },
      "source": [
        "#Зафиксируйте какую-либо многомерную скалярную функцию\n",
        "и реализуйте для неё анализ чувствительности по методу Соболя\n",
        "на Python с использованием библиотеки SALib.\n",
        "\n",
        "1. Проведите анализ чувствительности,\n",
        "проверьте сходимость, измерьте тайминги, 25 баллов\n",
        "2. Ускорьте вычисления Python с использованием любой \n",
        "из имеющихся возможностей (PyBind11, ctypes, cython, numba), 25 баллов\n",
        "3. Попробуйте добавить параллелизм в вычисления, 25 баллов\n",
        "4. Оформите и представьте результаты, 25 баллов"
      ]
    },
    {
      "cell_type": "markdown",
      "source": [
        "### 1. Простая релизация"
      ],
      "metadata": {
        "id": "aocrRuwbGgsh"
      }
    },
    {
      "cell_type": "code",
      "source": [
        "A = 7.0\n",
        "B = 0.1\n",
        "\n",
        "\n",
        "#  Ishigami example\n",
        "def eval_model(x):\n",
        "    return (np.sin(x[0]) + A * np.power(np.sin(x[1]), 2) + B * np.power(x[2], 4) * np.sin(x[0]))\n"
      ],
      "metadata": {
        "id": "A4GdmEyYIVyC"
      },
      "execution_count": null,
      "outputs": []
    },
    {
      "cell_type": "code",
      "source": [
        "# classic alg\n",
        "time_cl_arg = []\n",
        "for n in [2 ** 13, 2 ** 16, 2 ** 19]:\n",
        "    param_values = saltelli.sample(problem, n, calc_second_order=True)\n",
        "\n",
        "    Y = np.zeros(param_values.shape[0])\n",
        "    start_time = time.perf_counter()\n",
        "    for j in range(len(Y)):\n",
        "        Y[j] = eval_model(param_values[j])\n",
        "    end_time = time.perf_counter()\n",
        "    exc_time = end_time - start_time\n",
        "    print(f\"Execution Time for n = {n} equal: {exc_time:0.3f} sec\")\n",
        "    time_cl_arg.append(exc_time)\n"
      ],
      "metadata": {
        "colab": {
          "base_uri": "https://localhost:8080/"
        },
        "id": "5dmBcAypOzfr",
        "outputId": "6edd110b-9ca5-4756-bdd4-33f0836dd985"
      },
      "execution_count": null,
      "outputs": [
        {
          "output_type": "stream",
          "name": "stdout",
          "text": [
            "Execution Time for n = 8192 equal: 1.665 sec\n",
            "Execution Time for n = 65536 equal: 13.478 sec\n",
            "Execution Time for n = 524288 equal: 47.657 sec\n"
          ]
        }
      ]
    },
    {
      "cell_type": "code",
      "source": [
        "%%capture\n",
        "time_counter_classic = []\n",
        "n_classic = []\n",
        "all_start_time_classic = time.perf_counter()\n",
        "for i in range(4096, 2 ** 17, 2 ** 12):\n",
        "    n = i\n",
        "    param_values = saltelli.sample(problem, n, calc_second_order=True)\n",
        "    Y = np.zeros(param_values.shape[0])\n",
        "    start_time = time.perf_counter()\n",
        "    for j in range(len(Y)):\n",
        "        Y[j] = eval_model(param_values[j])\n",
        "    end_time = time.perf_counter()\n",
        "    exc_time = end_time - start_time\n",
        "    time_counter_classic.append(exc_time)\n",
        "    n_classic.append(n)\n",
        "all_end_time_classic = time.perf_counter()"
      ],
      "metadata": {
        "id": "ZH1LErqiThgD"
      },
      "execution_count": null,
      "outputs": []
    },
    {
      "cell_type": "code",
      "source": [
        "print(f\"All time take = {all_end_time_classic - all_start_time_classic}\")"
      ],
      "metadata": {
        "colab": {
          "base_uri": "https://localhost:8080/"
        },
        "id": "5vcfn1Vdyq2B",
        "outputId": "c819822c-b401-4d09-8649-62c7dbeacbaa"
      },
      "execution_count": null,
      "outputs": [
        {
          "output_type": "stream",
          "name": "stdout",
          "text": [
            "All time take = 305.166659201\n"
          ]
        }
      ]
    },
    {
      "cell_type": "code",
      "source": [
        "print(f\"Mean execution time = {np.mean(time_counter_classic):0.3f} sec\")"
      ],
      "metadata": {
        "colab": {
          "base_uri": "https://localhost:8080/"
        },
        "id": "YfVn03JqQ6nt",
        "outputId": "11b1a5c7-085c-4142-be23-8932f168e4be"
      },
      "execution_count": null,
      "outputs": [
        {
          "output_type": "stream",
          "name": "stdout",
          "text": [
            "Mean execution time = 5.645 sec\n"
          ]
        }
      ]
    },
    {
      "cell_type": "markdown",
      "source": [
        "### 2. Ускоренное выполнение с использованием numba "
      ],
      "metadata": {
        "id": "jHSYW8HGGnkR"
      }
    },
    {
      "cell_type": "code",
      "source": [
        "A = 7.0\n",
        "B = 0.1\n",
        "\n",
        "\n",
        "#  Ishigami example\n",
        "@jit(nopython=True)\n",
        "def eval_model_fast(x):\n",
        "    return np.sin(x[0]) + A * np.power(np.sin(x[1]), 2) + B * np.power(x[2], 4) * np.sin(x[0])"
      ],
      "metadata": {
        "id": "GoYIoaZibuwW"
      },
      "execution_count": null,
      "outputs": []
    },
    {
      "cell_type": "code",
      "source": [
        "# numba alg\n",
        "time_cl_numba = []\n",
        "for n in [2 ** 13, 2 ** 16, 2 ** 19]:\n",
        "    param_values = saltelli.sample(problem, n, calc_second_order=True)\n",
        "\n",
        "    Y = np.zeros(param_values.shape[0])\n",
        "    start_time = time.perf_counter()\n",
        "    for j in range(len(Y)):\n",
        "        Y[j] = eval_model_fast(param_values[j])\n",
        "    end_time = time.perf_counter()\n",
        "    exc_time = end_time - start_time\n",
        "    print(f\"Execution Time for n = {n} with numba equal: {exc_time:0.3f} sec\")\n",
        "    time_cl_numba.append(exc_time)\n"
      ],
      "metadata": {
        "id": "3OQ15QMkGvil",
        "colab": {
          "base_uri": "https://localhost:8080/"
        },
        "outputId": "1be72f15-5564-4fa0-84f8-f1874fd34400"
      },
      "execution_count": null,
      "outputs": [
        {
          "output_type": "stream",
          "name": "stdout",
          "text": [
            "Execution Time for n = 8192 with numba equal: 0.512 sec\n",
            "Execution Time for n = 65536 with numba equal: 0.466 sec\n",
            "Execution Time for n = 524288 with numba equal: 3.788 sec\n"
          ]
        }
      ]
    },
    {
      "cell_type": "code",
      "source": [
        "%%capture\n",
        "time_counter_numba = []\n",
        "n_numba = []\n",
        "all_start_time_numba = time.perf_counter()\n",
        "for i in range(4096, 2 ** 17, 2 ** 12):\n",
        "    n = i\n",
        "    param_values = saltelli.sample(problem, n, calc_second_order=True)\n",
        "    Y = np.zeros(param_values.shape[0])\n",
        "    start_time = time.perf_counter()\n",
        "    for j in range(len(Y)):\n",
        "        Y[j] = eval_model_fast(param_values[j])\n",
        "    end_time = time.perf_counter()\n",
        "    exc_time = end_time - start_time\n",
        "    time_counter_numba.append(exc_time)\n",
        "    n_numba.append(n)\n",
        "all_end_time_numba = time.perf_counter()"
      ],
      "metadata": {
        "id": "2Nxt59RRG_WF"
      },
      "execution_count": null,
      "outputs": []
    },
    {
      "cell_type": "code",
      "source": [
        "print(f\"All time take with numba = {all_end_time_numba - all_start_time_numba}\")"
      ],
      "metadata": {
        "colab": {
          "base_uri": "https://localhost:8080/"
        },
        "id": "MLnKxbnSyozS",
        "outputId": "5bf61885-959f-4722-c6f5-e63b0777c9d6"
      },
      "execution_count": null,
      "outputs": [
        {
          "output_type": "stream",
          "name": "stdout",
          "text": [
            "All time take with numba = 143.27094710299997\n"
          ]
        }
      ]
    },
    {
      "cell_type": "code",
      "source": [
        "print(f\"Mean execution time with numba = {np.mean(time_counter_numba):0.3f} sec\")"
      ],
      "metadata": {
        "colab": {
          "base_uri": "https://localhost:8080/"
        },
        "id": "n521K-QVfKOF",
        "outputId": "07a02fb1-47c3-43f2-f0f8-fa3ecdd161cb"
      },
      "execution_count": null,
      "outputs": [
        {
          "output_type": "stream",
          "name": "stdout",
          "text": [
            "Mean execution time with numba = 0.472 sec\n"
          ]
        }
      ]
    },
    {
      "cell_type": "markdown",
      "source": [
        "С помощью Numba получилось ускорить работу примерно от 3  раз"
      ],
      "metadata": {
        "id": "_c74ZSisBIXN"
      }
    },
    {
      "cell_type": "markdown",
      "source": [
        "### 3. Паралельное выполнение"
      ],
      "metadata": {
        "id": "cy5cbMqdG-pE"
      }
    },
    {
      "cell_type": "code",
      "source": [
        "from multiprocessing import Pool, cpu_count\n",
        "from concurrent.futures import ThreadPoolExecutor\n"
      ],
      "metadata": {
        "id": "XqZxwm2tWJMr"
      },
      "execution_count": null,
      "outputs": []
    },
    {
      "cell_type": "code",
      "source": [
        "def calc_vals(n):\n",
        "    param_values = saltelli.sample(problem, n, calc_second_order=True)\n",
        "    Y = np.zeros(param_values.shape[0])\n",
        "    start_time = time.perf_counter()\n",
        "    for i in range(len(Y)):\n",
        "        Y[i] = eval_model(param_values[i])\n",
        "    end_time = time.perf_counter()\n",
        "    exc_time = end_time - start_time\n",
        "    return exc_time, n"
      ],
      "metadata": {
        "id": "V2ZvYT6Oi7KP"
      },
      "execution_count": null,
      "outputs": []
    },
    {
      "cell_type": "code",
      "source": [
        "# pool = Pool(cpu_count())\n",
        "all_start_time_m = time.perf_counter()\n",
        "#result_cl = pool.map(calc_vals, range(4096, 2 ** 17, 2 ** 12))  # if multiprocessing  \n",
        "with ThreadPoolExecutor(max_workers=4) as executor:\n",
        "    result_cl = list(executor.map(calc_vals,np.arange(4096, 2**17, 2**12)))\n",
        "all_end_time_m = time.perf_counter()\n",
        "print(f\"All time take with multiprocessing = {all_end_time_m - all_start_time_m}\")"
      ],
      "metadata": {
        "colab": {
          "base_uri": "https://localhost:8080/"
        },
        "id": "_gdWyMDukdgn",
        "outputId": "70d44ec0-8d59-4439-b0f5-169a90792b65"
      },
      "execution_count": null,
      "outputs": [
        {
          "output_type": "stream",
          "name": "stdout",
          "text": [
            "All time take with multiprocessing = 303.91801232700004\n"
          ]
        }
      ]
    },
    {
      "cell_type": "markdown",
      "source": [
        "Не получилось приемлемо распараллелить вычисления"
      ],
      "metadata": {
        "id": "IpITR6SiBMi3"
      }
    },
    {
      "cell_type": "markdown",
      "source": [
        "### Результаты"
      ],
      "metadata": {
        "id": "Y-DnYXytHFlJ"
      }
    },
    {
      "cell_type": "code",
      "source": [
        "plt.figure(figsize=(10, 8), dpi=80)\n",
        "sns.set_theme(style=\"darkgrid\")\n",
        "sns.lineplot(x=n_classic, y=time_counter_classic, label='classic')\n",
        "sns.lineplot(x=n_numba, y=time_counter_numba, label='numba')\n",
        "sns.lineplot(x=[x[1] for x in result_cl], y=[x[0] for x in result_cl], label='multiprocessing')\n",
        "plt.xlabel('n')\n",
        "plt.ylabel('time in sec')\n",
        "plt.show()"
      ],
      "metadata": {
        "id": "zhJNVn7LHKV1",
        "colab": {
          "base_uri": "https://localhost:8080/",
          "height": 557
        },
        "outputId": "50df4637-00d8-4fae-def4-cf0917ca4f8e"
      },
      "execution_count": null,
      "outputs": [
        {
          "output_type": "display_data",
          "data": {
            "text/plain": [
              "<Figure size 800x640 with 1 Axes>"
            ],
            "image/png": "[encoded data removed]"
          },
          "metadata": {
            "needs_background": "light"
          }
        }
      ]
    },
    {
      "cell_type": "code",
      "source": [
        "print(f\"Mean execution time with numba = {np.mean(time_counter_numba):0.3f} sec\")\n",
        "print(f\"Mean execution time with multiprocessing = {((all_end_time_m - all_start_time_m)/len(result_cl)):0.3f} sec\")\n",
        "print(f\"Mean execution time = {np.mean(time_counter_classic):0.3f} sec\")"
      ],
      "metadata": {
        "colab": {
          "base_uri": "https://localhost:8080/"
        },
        "id": "fkZDwGI_x4Lm",
        "outputId": "e575342e-b2ed-4455-b0ed-27915fab3325"
      },
      "execution_count": null,
      "outputs": [
        {
          "output_type": "stream",
          "name": "stdout",
          "text": [
            "Mean execution time with numba = 0.472 sec\n",
            "Mean execution time with multiprocessing = 9.804 sec\n",
            "Mean execution time = 5.645 sec\n"
          ]
        }
      ]
    },
    {
      "cell_type": "markdown",
      "source": [
        "Графики и время для multiprocessing не совсем корректны, но создают представление."
      ],
      "metadata": {
        "id": "CCZK8OLPSsYl"
      }
    }
  ],
  "metadata": {
    "kernelspec": {
      "display_name": "Python 3",
      "language": "python",
      "name": "python3"
    },
    "language_info": {
      "codemirror_mode": {
        "name": "ipython",
        "version": 3
      },
      "file_extension": ".py",
      "mimetype": "text/x-python",
      "name": "python",
      "nbconvert_exporter": "python",
      "pygments_lexer": "ipython3",
      "version": "3.8.3"
    },
    "colab": {
      "provenance": [],
      "include_colab_link": true
    }
  },
  "nbformat": 4,
  "nbformat_minor": 0
}